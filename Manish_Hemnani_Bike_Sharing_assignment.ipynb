{
 "cells": [
  {
   "cell_type": "markdown",
   "id": "2a89f781",
   "metadata": {},
   "source": [
    "A bike-sharing system is a service in which bikes are made available for shared use to individuals on a short term basis for a price or free\n",
    "\n",
    "A US bike-sharing provider BoomBikes has recently suffered considerable dips in their revenues due to the ongoing Corona pandemic. The company is finding it very difficult to sustain in the current market scenario. So, it has decided to come up with a mindful business plan to be able to accelerate its revenue as soon as the ongoing lockdown comes to an end, and the economy restores to a healthy state"
   ]
  },
  {
   "cell_type": "code",
   "execution_count": 1,
   "id": "690667d2",
   "metadata": {},
   "outputs": [],
   "source": [
    "# Importing all required packages\n",
    "import numpy as np\n",
    "import pandas as pd\n",
    "import matplotlib.pyplot as plt\n",
    "import seaborn as sns\n",
    "%matplotlib inline\n",
    "# Supress Warnings\n",
    "\n",
    "import warnings\n",
    "warnings.filterwarnings('ignore')"
   ]
  },
  {
   "cell_type": "code",
   "execution_count": 2,
   "id": "5cd1c479",
   "metadata": {},
   "outputs": [],
   "source": [
    "#Importing dataset\n",
    "bike_df = pd.read_csv('day.csv')\n"
   ]
  },
  {
   "cell_type": "code",
   "execution_count": 3,
   "id": "8cb71048",
   "metadata": {},
   "outputs": [
    {
     "data": {
      "text/html": [
       "<div>\n",
       "<style scoped>\n",
       "    .dataframe tbody tr th:only-of-type {\n",
       "        vertical-align: middle;\n",
       "    }\n",
       "\n",
       "    .dataframe tbody tr th {\n",
       "        vertical-align: top;\n",
       "    }\n",
       "\n",
       "    .dataframe thead th {\n",
       "        text-align: right;\n",
       "    }\n",
       "</style>\n",
       "<table border=\"1\" class=\"dataframe\">\n",
       "  <thead>\n",
       "    <tr style=\"text-align: right;\">\n",
       "      <th></th>\n",
       "      <th>instant</th>\n",
       "      <th>dteday</th>\n",
       "      <th>season</th>\n",
       "      <th>yr</th>\n",
       "      <th>mnth</th>\n",
       "      <th>holiday</th>\n",
       "      <th>weekday</th>\n",
       "      <th>workingday</th>\n",
       "      <th>weathersit</th>\n",
       "      <th>temp</th>\n",
       "      <th>atemp</th>\n",
       "      <th>hum</th>\n",
       "      <th>windspeed</th>\n",
       "      <th>casual</th>\n",
       "      <th>registered</th>\n",
       "      <th>cnt</th>\n",
       "    </tr>\n",
       "  </thead>\n",
       "  <tbody>\n",
       "    <tr>\n",
       "      <th>0</th>\n",
       "      <td>1</td>\n",
       "      <td>01-01-2018</td>\n",
       "      <td>1</td>\n",
       "      <td>0</td>\n",
       "      <td>1</td>\n",
       "      <td>0</td>\n",
       "      <td>6</td>\n",
       "      <td>0</td>\n",
       "      <td>2</td>\n",
       "      <td>14.110847</td>\n",
       "      <td>18.18125</td>\n",
       "      <td>80.5833</td>\n",
       "      <td>10.749882</td>\n",
       "      <td>331</td>\n",
       "      <td>654</td>\n",
       "      <td>985</td>\n",
       "    </tr>\n",
       "    <tr>\n",
       "      <th>1</th>\n",
       "      <td>2</td>\n",
       "      <td>02-01-2018</td>\n",
       "      <td>1</td>\n",
       "      <td>0</td>\n",
       "      <td>1</td>\n",
       "      <td>0</td>\n",
       "      <td>0</td>\n",
       "      <td>0</td>\n",
       "      <td>2</td>\n",
       "      <td>14.902598</td>\n",
       "      <td>17.68695</td>\n",
       "      <td>69.6087</td>\n",
       "      <td>16.652113</td>\n",
       "      <td>131</td>\n",
       "      <td>670</td>\n",
       "      <td>801</td>\n",
       "    </tr>\n",
       "    <tr>\n",
       "      <th>2</th>\n",
       "      <td>3</td>\n",
       "      <td>03-01-2018</td>\n",
       "      <td>1</td>\n",
       "      <td>0</td>\n",
       "      <td>1</td>\n",
       "      <td>0</td>\n",
       "      <td>1</td>\n",
       "      <td>1</td>\n",
       "      <td>1</td>\n",
       "      <td>8.050924</td>\n",
       "      <td>9.47025</td>\n",
       "      <td>43.7273</td>\n",
       "      <td>16.636703</td>\n",
       "      <td>120</td>\n",
       "      <td>1229</td>\n",
       "      <td>1349</td>\n",
       "    </tr>\n",
       "    <tr>\n",
       "      <th>3</th>\n",
       "      <td>4</td>\n",
       "      <td>04-01-2018</td>\n",
       "      <td>1</td>\n",
       "      <td>0</td>\n",
       "      <td>1</td>\n",
       "      <td>0</td>\n",
       "      <td>2</td>\n",
       "      <td>1</td>\n",
       "      <td>1</td>\n",
       "      <td>8.200000</td>\n",
       "      <td>10.60610</td>\n",
       "      <td>59.0435</td>\n",
       "      <td>10.739832</td>\n",
       "      <td>108</td>\n",
       "      <td>1454</td>\n",
       "      <td>1562</td>\n",
       "    </tr>\n",
       "    <tr>\n",
       "      <th>4</th>\n",
       "      <td>5</td>\n",
       "      <td>05-01-2018</td>\n",
       "      <td>1</td>\n",
       "      <td>0</td>\n",
       "      <td>1</td>\n",
       "      <td>0</td>\n",
       "      <td>3</td>\n",
       "      <td>1</td>\n",
       "      <td>1</td>\n",
       "      <td>9.305237</td>\n",
       "      <td>11.46350</td>\n",
       "      <td>43.6957</td>\n",
       "      <td>12.522300</td>\n",
       "      <td>82</td>\n",
       "      <td>1518</td>\n",
       "      <td>1600</td>\n",
       "    </tr>\n",
       "  </tbody>\n",
       "</table>\n",
       "</div>"
      ],
      "text/plain": [
       "   instant      dteday  season  yr  mnth  holiday  weekday  workingday  \\\n",
       "0        1  01-01-2018       1   0     1        0        6           0   \n",
       "1        2  02-01-2018       1   0     1        0        0           0   \n",
       "2        3  03-01-2018       1   0     1        0        1           1   \n",
       "3        4  04-01-2018       1   0     1        0        2           1   \n",
       "4        5  05-01-2018       1   0     1        0        3           1   \n",
       "\n",
       "   weathersit       temp     atemp      hum  windspeed  casual  registered  \\\n",
       "0           2  14.110847  18.18125  80.5833  10.749882     331         654   \n",
       "1           2  14.902598  17.68695  69.6087  16.652113     131         670   \n",
       "2           1   8.050924   9.47025  43.7273  16.636703     120        1229   \n",
       "3           1   8.200000  10.60610  59.0435  10.739832     108        1454   \n",
       "4           1   9.305237  11.46350  43.6957  12.522300      82        1518   \n",
       "\n",
       "    cnt  \n",
       "0   985  \n",
       "1   801  \n",
       "2  1349  \n",
       "3  1562  \n",
       "4  1600  "
      ]
     },
     "execution_count": 3,
     "metadata": {},
     "output_type": "execute_result"
    }
   ],
   "source": [
    "bike_df.head()"
   ]
  },
  {
   "cell_type": "code",
   "execution_count": 4,
   "id": "2cb35fa0",
   "metadata": {},
   "outputs": [],
   "source": [
    "bike_df.dteday = pd.to_datetime(bike_df.dteday)"
   ]
  },
  {
   "cell_type": "code",
   "execution_count": 5,
   "id": "cd5536fb",
   "metadata": {},
   "outputs": [
    {
     "data": {
      "text/html": [
       "<div>\n",
       "<style scoped>\n",
       "    .dataframe tbody tr th:only-of-type {\n",
       "        vertical-align: middle;\n",
       "    }\n",
       "\n",
       "    .dataframe tbody tr th {\n",
       "        vertical-align: top;\n",
       "    }\n",
       "\n",
       "    .dataframe thead th {\n",
       "        text-align: right;\n",
       "    }\n",
       "</style>\n",
       "<table border=\"1\" class=\"dataframe\">\n",
       "  <thead>\n",
       "    <tr style=\"text-align: right;\">\n",
       "      <th></th>\n",
       "      <th>instant</th>\n",
       "      <th>dteday</th>\n",
       "      <th>season</th>\n",
       "      <th>yr</th>\n",
       "      <th>mnth</th>\n",
       "      <th>holiday</th>\n",
       "      <th>weekday</th>\n",
       "      <th>workingday</th>\n",
       "      <th>weathersit</th>\n",
       "      <th>temp</th>\n",
       "      <th>atemp</th>\n",
       "      <th>hum</th>\n",
       "      <th>windspeed</th>\n",
       "      <th>casual</th>\n",
       "      <th>registered</th>\n",
       "      <th>cnt</th>\n",
       "    </tr>\n",
       "  </thead>\n",
       "  <tbody>\n",
       "    <tr>\n",
       "      <th>0</th>\n",
       "      <td>1</td>\n",
       "      <td>2018-01-01</td>\n",
       "      <td>1</td>\n",
       "      <td>0</td>\n",
       "      <td>1</td>\n",
       "      <td>0</td>\n",
       "      <td>6</td>\n",
       "      <td>0</td>\n",
       "      <td>2</td>\n",
       "      <td>14.110847</td>\n",
       "      <td>18.18125</td>\n",
       "      <td>80.5833</td>\n",
       "      <td>10.749882</td>\n",
       "      <td>331</td>\n",
       "      <td>654</td>\n",
       "      <td>985</td>\n",
       "    </tr>\n",
       "    <tr>\n",
       "      <th>1</th>\n",
       "      <td>2</td>\n",
       "      <td>2018-02-01</td>\n",
       "      <td>1</td>\n",
       "      <td>0</td>\n",
       "      <td>1</td>\n",
       "      <td>0</td>\n",
       "      <td>0</td>\n",
       "      <td>0</td>\n",
       "      <td>2</td>\n",
       "      <td>14.902598</td>\n",
       "      <td>17.68695</td>\n",
       "      <td>69.6087</td>\n",
       "      <td>16.652113</td>\n",
       "      <td>131</td>\n",
       "      <td>670</td>\n",
       "      <td>801</td>\n",
       "    </tr>\n",
       "    <tr>\n",
       "      <th>2</th>\n",
       "      <td>3</td>\n",
       "      <td>2018-03-01</td>\n",
       "      <td>1</td>\n",
       "      <td>0</td>\n",
       "      <td>1</td>\n",
       "      <td>0</td>\n",
       "      <td>1</td>\n",
       "      <td>1</td>\n",
       "      <td>1</td>\n",
       "      <td>8.050924</td>\n",
       "      <td>9.47025</td>\n",
       "      <td>43.7273</td>\n",
       "      <td>16.636703</td>\n",
       "      <td>120</td>\n",
       "      <td>1229</td>\n",
       "      <td>1349</td>\n",
       "    </tr>\n",
       "    <tr>\n",
       "      <th>3</th>\n",
       "      <td>4</td>\n",
       "      <td>2018-04-01</td>\n",
       "      <td>1</td>\n",
       "      <td>0</td>\n",
       "      <td>1</td>\n",
       "      <td>0</td>\n",
       "      <td>2</td>\n",
       "      <td>1</td>\n",
       "      <td>1</td>\n",
       "      <td>8.200000</td>\n",
       "      <td>10.60610</td>\n",
       "      <td>59.0435</td>\n",
       "      <td>10.739832</td>\n",
       "      <td>108</td>\n",
       "      <td>1454</td>\n",
       "      <td>1562</td>\n",
       "    </tr>\n",
       "    <tr>\n",
       "      <th>4</th>\n",
       "      <td>5</td>\n",
       "      <td>2018-05-01</td>\n",
       "      <td>1</td>\n",
       "      <td>0</td>\n",
       "      <td>1</td>\n",
       "      <td>0</td>\n",
       "      <td>3</td>\n",
       "      <td>1</td>\n",
       "      <td>1</td>\n",
       "      <td>9.305237</td>\n",
       "      <td>11.46350</td>\n",
       "      <td>43.6957</td>\n",
       "      <td>12.522300</td>\n",
       "      <td>82</td>\n",
       "      <td>1518</td>\n",
       "      <td>1600</td>\n",
       "    </tr>\n",
       "  </tbody>\n",
       "</table>\n",
       "</div>"
      ],
      "text/plain": [
       "   instant     dteday  season  yr  mnth  holiday  weekday  workingday  \\\n",
       "0        1 2018-01-01       1   0     1        0        6           0   \n",
       "1        2 2018-02-01       1   0     1        0        0           0   \n",
       "2        3 2018-03-01       1   0     1        0        1           1   \n",
       "3        4 2018-04-01       1   0     1        0        2           1   \n",
       "4        5 2018-05-01       1   0     1        0        3           1   \n",
       "\n",
       "   weathersit       temp     atemp      hum  windspeed  casual  registered  \\\n",
       "0           2  14.110847  18.18125  80.5833  10.749882     331         654   \n",
       "1           2  14.902598  17.68695  69.6087  16.652113     131         670   \n",
       "2           1   8.050924   9.47025  43.7273  16.636703     120        1229   \n",
       "3           1   8.200000  10.60610  59.0435  10.739832     108        1454   \n",
       "4           1   9.305237  11.46350  43.6957  12.522300      82        1518   \n",
       "\n",
       "    cnt  \n",
       "0   985  \n",
       "1   801  \n",
       "2  1349  \n",
       "3  1562  \n",
       "4  1600  "
      ]
     },
     "execution_count": 5,
     "metadata": {},
     "output_type": "execute_result"
    }
   ],
   "source": [
    "bike_df.head()"
   ]
  },
  {
   "cell_type": "code",
   "execution_count": 6,
   "id": "ffbf7ded",
   "metadata": {},
   "outputs": [
    {
     "data": {
      "text/html": [
       "<div>\n",
       "<style scoped>\n",
       "    .dataframe tbody tr th:only-of-type {\n",
       "        vertical-align: middle;\n",
       "    }\n",
       "\n",
       "    .dataframe tbody tr th {\n",
       "        vertical-align: top;\n",
       "    }\n",
       "\n",
       "    .dataframe thead th {\n",
       "        text-align: right;\n",
       "    }\n",
       "</style>\n",
       "<table border=\"1\" class=\"dataframe\">\n",
       "  <thead>\n",
       "    <tr style=\"text-align: right;\">\n",
       "      <th></th>\n",
       "      <th>instant</th>\n",
       "      <th>season</th>\n",
       "      <th>yr</th>\n",
       "      <th>mnth</th>\n",
       "      <th>holiday</th>\n",
       "      <th>weekday</th>\n",
       "      <th>workingday</th>\n",
       "      <th>weathersit</th>\n",
       "      <th>temp</th>\n",
       "      <th>atemp</th>\n",
       "      <th>hum</th>\n",
       "      <th>windspeed</th>\n",
       "      <th>casual</th>\n",
       "      <th>registered</th>\n",
       "      <th>cnt</th>\n",
       "    </tr>\n",
       "  </thead>\n",
       "  <tbody>\n",
       "    <tr>\n",
       "      <th>count</th>\n",
       "      <td>730.000000</td>\n",
       "      <td>730.000000</td>\n",
       "      <td>730.000000</td>\n",
       "      <td>730.000000</td>\n",
       "      <td>730.000000</td>\n",
       "      <td>730.000000</td>\n",
       "      <td>730.000000</td>\n",
       "      <td>730.000000</td>\n",
       "      <td>730.000000</td>\n",
       "      <td>730.000000</td>\n",
       "      <td>730.000000</td>\n",
       "      <td>730.000000</td>\n",
       "      <td>730.000000</td>\n",
       "      <td>730.000000</td>\n",
       "      <td>730.000000</td>\n",
       "    </tr>\n",
       "    <tr>\n",
       "      <th>mean</th>\n",
       "      <td>365.500000</td>\n",
       "      <td>2.498630</td>\n",
       "      <td>0.500000</td>\n",
       "      <td>6.526027</td>\n",
       "      <td>0.028767</td>\n",
       "      <td>2.997260</td>\n",
       "      <td>0.683562</td>\n",
       "      <td>1.394521</td>\n",
       "      <td>20.319259</td>\n",
       "      <td>23.726322</td>\n",
       "      <td>62.765175</td>\n",
       "      <td>12.763620</td>\n",
       "      <td>849.249315</td>\n",
       "      <td>3658.757534</td>\n",
       "      <td>4508.006849</td>\n",
       "    </tr>\n",
       "    <tr>\n",
       "      <th>std</th>\n",
       "      <td>210.877136</td>\n",
       "      <td>1.110184</td>\n",
       "      <td>0.500343</td>\n",
       "      <td>3.450215</td>\n",
       "      <td>0.167266</td>\n",
       "      <td>2.006161</td>\n",
       "      <td>0.465405</td>\n",
       "      <td>0.544807</td>\n",
       "      <td>7.506729</td>\n",
       "      <td>8.150308</td>\n",
       "      <td>14.237589</td>\n",
       "      <td>5.195841</td>\n",
       "      <td>686.479875</td>\n",
       "      <td>1559.758728</td>\n",
       "      <td>1936.011647</td>\n",
       "    </tr>\n",
       "    <tr>\n",
       "      <th>min</th>\n",
       "      <td>1.000000</td>\n",
       "      <td>1.000000</td>\n",
       "      <td>0.000000</td>\n",
       "      <td>1.000000</td>\n",
       "      <td>0.000000</td>\n",
       "      <td>0.000000</td>\n",
       "      <td>0.000000</td>\n",
       "      <td>1.000000</td>\n",
       "      <td>2.424346</td>\n",
       "      <td>3.953480</td>\n",
       "      <td>0.000000</td>\n",
       "      <td>1.500244</td>\n",
       "      <td>2.000000</td>\n",
       "      <td>20.000000</td>\n",
       "      <td>22.000000</td>\n",
       "    </tr>\n",
       "    <tr>\n",
       "      <th>25%</th>\n",
       "      <td>183.250000</td>\n",
       "      <td>2.000000</td>\n",
       "      <td>0.000000</td>\n",
       "      <td>4.000000</td>\n",
       "      <td>0.000000</td>\n",
       "      <td>1.000000</td>\n",
       "      <td>0.000000</td>\n",
       "      <td>1.000000</td>\n",
       "      <td>13.811885</td>\n",
       "      <td>16.889713</td>\n",
       "      <td>52.000000</td>\n",
       "      <td>9.041650</td>\n",
       "      <td>316.250000</td>\n",
       "      <td>2502.250000</td>\n",
       "      <td>3169.750000</td>\n",
       "    </tr>\n",
       "    <tr>\n",
       "      <th>50%</th>\n",
       "      <td>365.500000</td>\n",
       "      <td>3.000000</td>\n",
       "      <td>0.500000</td>\n",
       "      <td>7.000000</td>\n",
       "      <td>0.000000</td>\n",
       "      <td>3.000000</td>\n",
       "      <td>1.000000</td>\n",
       "      <td>1.000000</td>\n",
       "      <td>20.465826</td>\n",
       "      <td>24.368225</td>\n",
       "      <td>62.625000</td>\n",
       "      <td>12.125325</td>\n",
       "      <td>717.000000</td>\n",
       "      <td>3664.500000</td>\n",
       "      <td>4548.500000</td>\n",
       "    </tr>\n",
       "    <tr>\n",
       "      <th>75%</th>\n",
       "      <td>547.750000</td>\n",
       "      <td>3.000000</td>\n",
       "      <td>1.000000</td>\n",
       "      <td>10.000000</td>\n",
       "      <td>0.000000</td>\n",
       "      <td>5.000000</td>\n",
       "      <td>1.000000</td>\n",
       "      <td>2.000000</td>\n",
       "      <td>26.880615</td>\n",
       "      <td>30.445775</td>\n",
       "      <td>72.989575</td>\n",
       "      <td>15.625589</td>\n",
       "      <td>1096.500000</td>\n",
       "      <td>4783.250000</td>\n",
       "      <td>5966.000000</td>\n",
       "    </tr>\n",
       "    <tr>\n",
       "      <th>max</th>\n",
       "      <td>730.000000</td>\n",
       "      <td>4.000000</td>\n",
       "      <td>1.000000</td>\n",
       "      <td>12.000000</td>\n",
       "      <td>1.000000</td>\n",
       "      <td>6.000000</td>\n",
       "      <td>1.000000</td>\n",
       "      <td>3.000000</td>\n",
       "      <td>35.328347</td>\n",
       "      <td>42.044800</td>\n",
       "      <td>97.250000</td>\n",
       "      <td>34.000021</td>\n",
       "      <td>3410.000000</td>\n",
       "      <td>6946.000000</td>\n",
       "      <td>8714.000000</td>\n",
       "    </tr>\n",
       "  </tbody>\n",
       "</table>\n",
       "</div>"
      ],
      "text/plain": [
       "          instant      season          yr        mnth     holiday     weekday  \\\n",
       "count  730.000000  730.000000  730.000000  730.000000  730.000000  730.000000   \n",
       "mean   365.500000    2.498630    0.500000    6.526027    0.028767    2.997260   \n",
       "std    210.877136    1.110184    0.500343    3.450215    0.167266    2.006161   \n",
       "min      1.000000    1.000000    0.000000    1.000000    0.000000    0.000000   \n",
       "25%    183.250000    2.000000    0.000000    4.000000    0.000000    1.000000   \n",
       "50%    365.500000    3.000000    0.500000    7.000000    0.000000    3.000000   \n",
       "75%    547.750000    3.000000    1.000000   10.000000    0.000000    5.000000   \n",
       "max    730.000000    4.000000    1.000000   12.000000    1.000000    6.000000   \n",
       "\n",
       "       workingday  weathersit        temp       atemp         hum   windspeed  \\\n",
       "count  730.000000  730.000000  730.000000  730.000000  730.000000  730.000000   \n",
       "mean     0.683562    1.394521   20.319259   23.726322   62.765175   12.763620   \n",
       "std      0.465405    0.544807    7.506729    8.150308   14.237589    5.195841   \n",
       "min      0.000000    1.000000    2.424346    3.953480    0.000000    1.500244   \n",
       "25%      0.000000    1.000000   13.811885   16.889713   52.000000    9.041650   \n",
       "50%      1.000000    1.000000   20.465826   24.368225   62.625000   12.125325   \n",
       "75%      1.000000    2.000000   26.880615   30.445775   72.989575   15.625589   \n",
       "max      1.000000    3.000000   35.328347   42.044800   97.250000   34.000021   \n",
       "\n",
       "            casual   registered          cnt  \n",
       "count   730.000000   730.000000   730.000000  \n",
       "mean    849.249315  3658.757534  4508.006849  \n",
       "std     686.479875  1559.758728  1936.011647  \n",
       "min       2.000000    20.000000    22.000000  \n",
       "25%     316.250000  2502.250000  3169.750000  \n",
       "50%     717.000000  3664.500000  4548.500000  \n",
       "75%    1096.500000  4783.250000  5966.000000  \n",
       "max    3410.000000  6946.000000  8714.000000  "
      ]
     },
     "execution_count": 6,
     "metadata": {},
     "output_type": "execute_result"
    }
   ],
   "source": [
    "bike_df.describe()"
   ]
  },
  {
   "cell_type": "code",
   "execution_count": 7,
   "id": "1a5ad217",
   "metadata": {},
   "outputs": [
    {
     "name": "stdout",
     "output_type": "stream",
     "text": [
      "<class 'pandas.core.frame.DataFrame'>\n",
      "RangeIndex: 730 entries, 0 to 729\n",
      "Data columns (total 16 columns):\n",
      " #   Column      Non-Null Count  Dtype         \n",
      "---  ------      --------------  -----         \n",
      " 0   instant     730 non-null    int64         \n",
      " 1   dteday      730 non-null    datetime64[ns]\n",
      " 2   season      730 non-null    int64         \n",
      " 3   yr          730 non-null    int64         \n",
      " 4   mnth        730 non-null    int64         \n",
      " 5   holiday     730 non-null    int64         \n",
      " 6   weekday     730 non-null    int64         \n",
      " 7   workingday  730 non-null    int64         \n",
      " 8   weathersit  730 non-null    int64         \n",
      " 9   temp        730 non-null    float64       \n",
      " 10  atemp       730 non-null    float64       \n",
      " 11  hum         730 non-null    float64       \n",
      " 12  windspeed   730 non-null    float64       \n",
      " 13  casual      730 non-null    int64         \n",
      " 14  registered  730 non-null    int64         \n",
      " 15  cnt         730 non-null    int64         \n",
      "dtypes: datetime64[ns](1), float64(4), int64(11)\n",
      "memory usage: 91.4 KB\n"
     ]
    }
   ],
   "source": [
    "bike_df.info()"
   ]
  },
  {
   "cell_type": "code",
   "execution_count": 8,
   "id": "9d218dc2",
   "metadata": {},
   "outputs": [
    {
     "data": {
      "text/plain": [
       "(730, 16)"
      ]
     },
     "execution_count": 8,
     "metadata": {},
     "output_type": "execute_result"
    }
   ],
   "source": [
    "#Determining the number of rows and columns\n",
    "bike_df.shape"
   ]
  },
  {
   "cell_type": "markdown",
   "id": "cc476bce",
   "metadata": {},
   "source": [
    "#### Peforming EDA  "
   ]
  },
  {
   "cell_type": "code",
   "execution_count": 9,
   "id": "4c507034",
   "metadata": {},
   "outputs": [
    {
     "data": {
      "text/html": [
       "<div>\n",
       "<style scoped>\n",
       "    .dataframe tbody tr th:only-of-type {\n",
       "        vertical-align: middle;\n",
       "    }\n",
       "\n",
       "    .dataframe tbody tr th {\n",
       "        vertical-align: top;\n",
       "    }\n",
       "\n",
       "    .dataframe thead th {\n",
       "        text-align: right;\n",
       "    }\n",
       "</style>\n",
       "<table border=\"1\" class=\"dataframe\">\n",
       "  <thead>\n",
       "    <tr style=\"text-align: right;\">\n",
       "      <th></th>\n",
       "      <th>instant</th>\n",
       "      <th>Date</th>\n",
       "      <th>season</th>\n",
       "      <th>Year</th>\n",
       "      <th>month</th>\n",
       "      <th>holiday</th>\n",
       "      <th>weekday</th>\n",
       "      <th>workingday</th>\n",
       "      <th>weathersit</th>\n",
       "      <th>temp</th>\n",
       "      <th>temp_feel_like</th>\n",
       "      <th>humidity</th>\n",
       "      <th>windspeed</th>\n",
       "      <th>casual</th>\n",
       "      <th>registered</th>\n",
       "      <th>count</th>\n",
       "    </tr>\n",
       "  </thead>\n",
       "  <tbody>\n",
       "    <tr>\n",
       "      <th>0</th>\n",
       "      <td>1</td>\n",
       "      <td>2018-01-01</td>\n",
       "      <td>1</td>\n",
       "      <td>0</td>\n",
       "      <td>1</td>\n",
       "      <td>0</td>\n",
       "      <td>6</td>\n",
       "      <td>0</td>\n",
       "      <td>2</td>\n",
       "      <td>14.110847</td>\n",
       "      <td>18.18125</td>\n",
       "      <td>80.5833</td>\n",
       "      <td>10.749882</td>\n",
       "      <td>331</td>\n",
       "      <td>654</td>\n",
       "      <td>985</td>\n",
       "    </tr>\n",
       "    <tr>\n",
       "      <th>1</th>\n",
       "      <td>2</td>\n",
       "      <td>2018-02-01</td>\n",
       "      <td>1</td>\n",
       "      <td>0</td>\n",
       "      <td>1</td>\n",
       "      <td>0</td>\n",
       "      <td>0</td>\n",
       "      <td>0</td>\n",
       "      <td>2</td>\n",
       "      <td>14.902598</td>\n",
       "      <td>17.68695</td>\n",
       "      <td>69.6087</td>\n",
       "      <td>16.652113</td>\n",
       "      <td>131</td>\n",
       "      <td>670</td>\n",
       "      <td>801</td>\n",
       "    </tr>\n",
       "    <tr>\n",
       "      <th>2</th>\n",
       "      <td>3</td>\n",
       "      <td>2018-03-01</td>\n",
       "      <td>1</td>\n",
       "      <td>0</td>\n",
       "      <td>1</td>\n",
       "      <td>0</td>\n",
       "      <td>1</td>\n",
       "      <td>1</td>\n",
       "      <td>1</td>\n",
       "      <td>8.050924</td>\n",
       "      <td>9.47025</td>\n",
       "      <td>43.7273</td>\n",
       "      <td>16.636703</td>\n",
       "      <td>120</td>\n",
       "      <td>1229</td>\n",
       "      <td>1349</td>\n",
       "    </tr>\n",
       "    <tr>\n",
       "      <th>3</th>\n",
       "      <td>4</td>\n",
       "      <td>2018-04-01</td>\n",
       "      <td>1</td>\n",
       "      <td>0</td>\n",
       "      <td>1</td>\n",
       "      <td>0</td>\n",
       "      <td>2</td>\n",
       "      <td>1</td>\n",
       "      <td>1</td>\n",
       "      <td>8.200000</td>\n",
       "      <td>10.60610</td>\n",
       "      <td>59.0435</td>\n",
       "      <td>10.739832</td>\n",
       "      <td>108</td>\n",
       "      <td>1454</td>\n",
       "      <td>1562</td>\n",
       "    </tr>\n",
       "    <tr>\n",
       "      <th>4</th>\n",
       "      <td>5</td>\n",
       "      <td>2018-05-01</td>\n",
       "      <td>1</td>\n",
       "      <td>0</td>\n",
       "      <td>1</td>\n",
       "      <td>0</td>\n",
       "      <td>3</td>\n",
       "      <td>1</td>\n",
       "      <td>1</td>\n",
       "      <td>9.305237</td>\n",
       "      <td>11.46350</td>\n",
       "      <td>43.6957</td>\n",
       "      <td>12.522300</td>\n",
       "      <td>82</td>\n",
       "      <td>1518</td>\n",
       "      <td>1600</td>\n",
       "    </tr>\n",
       "  </tbody>\n",
       "</table>\n",
       "</div>"
      ],
      "text/plain": [
       "   instant       Date  season  Year  month  holiday  weekday  workingday  \\\n",
       "0        1 2018-01-01       1     0      1        0        6           0   \n",
       "1        2 2018-02-01       1     0      1        0        0           0   \n",
       "2        3 2018-03-01       1     0      1        0        1           1   \n",
       "3        4 2018-04-01       1     0      1        0        2           1   \n",
       "4        5 2018-05-01       1     0      1        0        3           1   \n",
       "\n",
       "   weathersit       temp  temp_feel_like  humidity  windspeed  casual  \\\n",
       "0           2  14.110847        18.18125   80.5833  10.749882     331   \n",
       "1           2  14.902598        17.68695   69.6087  16.652113     131   \n",
       "2           1   8.050924         9.47025   43.7273  16.636703     120   \n",
       "3           1   8.200000        10.60610   59.0435  10.739832     108   \n",
       "4           1   9.305237        11.46350   43.6957  12.522300      82   \n",
       "\n",
       "   registered  count  \n",
       "0         654    985  \n",
       "1         670    801  \n",
       "2        1229   1349  \n",
       "3        1454   1562  \n",
       "4        1518   1600  "
      ]
     },
     "execution_count": 9,
     "metadata": {},
     "output_type": "execute_result"
    }
   ],
   "source": [
    "#Rename the columns for better understanding\n",
    "bike_df.rename(columns = {'yr':'Year','mnth':'month','hum':'humidity','cnt':'count','dteday':'Date','atemp':'temp_feel_like'}, inplace = True) \n",
    "bike_df.head()"
   ]
  },
  {
   "cell_type": "code",
   "execution_count": 10,
   "id": "7e52d2c6",
   "metadata": {},
   "outputs": [
    {
     "data": {
      "text/plain": [
       "instant           0\n",
       "Date              0\n",
       "season            0\n",
       "Year              0\n",
       "month             0\n",
       "holiday           0\n",
       "weekday           0\n",
       "workingday        0\n",
       "weathersit        0\n",
       "temp              0\n",
       "temp_feel_like    0\n",
       "humidity          0\n",
       "windspeed         0\n",
       "casual            0\n",
       "registered        0\n",
       "count             0\n",
       "dtype: int64"
      ]
     },
     "execution_count": 10,
     "metadata": {},
     "output_type": "execute_result"
    }
   ],
   "source": [
    "#Checking missing values\n",
    "bike_df.isnull().sum()"
   ]
  },
  {
   "cell_type": "markdown",
   "id": "97b2f4ad",
   "metadata": {},
   "source": [
    "No Null Values "
   ]
  },
  {
   "cell_type": "code",
   "execution_count": 11,
   "id": "def2c439",
   "metadata": {},
   "outputs": [
    {
     "data": {
      "text/plain": [
       "(730, 16)"
      ]
     },
     "execution_count": 11,
     "metadata": {},
     "output_type": "execute_result"
    }
   ],
   "source": [
    "# remove duplicates\n",
    "bike_df.drop_duplicates(subset=None, inplace = True)\n",
    "bike_df.shape"
   ]
  },
  {
   "cell_type": "code",
   "execution_count": 12,
   "id": "fa78a773",
   "metadata": {},
   "outputs": [],
   "source": [
    "# Features that needs to drop which are not required\n",
    "varlist =  ['registered', 'casual', 'instant','Date']\n",
    "bike_df.drop(varlist, axis=1, inplace=True)"
   ]
  },
  {
   "cell_type": "code",
   "execution_count": 13,
   "id": "ccd3e361",
   "metadata": {},
   "outputs": [
    {
     "data": {
      "text/html": [
       "<div>\n",
       "<style scoped>\n",
       "    .dataframe tbody tr th:only-of-type {\n",
       "        vertical-align: middle;\n",
       "    }\n",
       "\n",
       "    .dataframe tbody tr th {\n",
       "        vertical-align: top;\n",
       "    }\n",
       "\n",
       "    .dataframe thead th {\n",
       "        text-align: right;\n",
       "    }\n",
       "</style>\n",
       "<table border=\"1\" class=\"dataframe\">\n",
       "  <thead>\n",
       "    <tr style=\"text-align: right;\">\n",
       "      <th></th>\n",
       "      <th>season</th>\n",
       "      <th>Year</th>\n",
       "      <th>month</th>\n",
       "      <th>holiday</th>\n",
       "      <th>weekday</th>\n",
       "      <th>workingday</th>\n",
       "      <th>weathersit</th>\n",
       "      <th>temp</th>\n",
       "      <th>temp_feel_like</th>\n",
       "      <th>humidity</th>\n",
       "      <th>windspeed</th>\n",
       "      <th>count</th>\n",
       "    </tr>\n",
       "  </thead>\n",
       "  <tbody>\n",
       "    <tr>\n",
       "      <th>0</th>\n",
       "      <td>1</td>\n",
       "      <td>0</td>\n",
       "      <td>1</td>\n",
       "      <td>0</td>\n",
       "      <td>6</td>\n",
       "      <td>0</td>\n",
       "      <td>2</td>\n",
       "      <td>14.110847</td>\n",
       "      <td>18.18125</td>\n",
       "      <td>80.5833</td>\n",
       "      <td>10.749882</td>\n",
       "      <td>985</td>\n",
       "    </tr>\n",
       "    <tr>\n",
       "      <th>1</th>\n",
       "      <td>1</td>\n",
       "      <td>0</td>\n",
       "      <td>1</td>\n",
       "      <td>0</td>\n",
       "      <td>0</td>\n",
       "      <td>0</td>\n",
       "      <td>2</td>\n",
       "      <td>14.902598</td>\n",
       "      <td>17.68695</td>\n",
       "      <td>69.6087</td>\n",
       "      <td>16.652113</td>\n",
       "      <td>801</td>\n",
       "    </tr>\n",
       "    <tr>\n",
       "      <th>2</th>\n",
       "      <td>1</td>\n",
       "      <td>0</td>\n",
       "      <td>1</td>\n",
       "      <td>0</td>\n",
       "      <td>1</td>\n",
       "      <td>1</td>\n",
       "      <td>1</td>\n",
       "      <td>8.050924</td>\n",
       "      <td>9.47025</td>\n",
       "      <td>43.7273</td>\n",
       "      <td>16.636703</td>\n",
       "      <td>1349</td>\n",
       "    </tr>\n",
       "    <tr>\n",
       "      <th>3</th>\n",
       "      <td>1</td>\n",
       "      <td>0</td>\n",
       "      <td>1</td>\n",
       "      <td>0</td>\n",
       "      <td>2</td>\n",
       "      <td>1</td>\n",
       "      <td>1</td>\n",
       "      <td>8.200000</td>\n",
       "      <td>10.60610</td>\n",
       "      <td>59.0435</td>\n",
       "      <td>10.739832</td>\n",
       "      <td>1562</td>\n",
       "    </tr>\n",
       "    <tr>\n",
       "      <th>4</th>\n",
       "      <td>1</td>\n",
       "      <td>0</td>\n",
       "      <td>1</td>\n",
       "      <td>0</td>\n",
       "      <td>3</td>\n",
       "      <td>1</td>\n",
       "      <td>1</td>\n",
       "      <td>9.305237</td>\n",
       "      <td>11.46350</td>\n",
       "      <td>43.6957</td>\n",
       "      <td>12.522300</td>\n",
       "      <td>1600</td>\n",
       "    </tr>\n",
       "  </tbody>\n",
       "</table>\n",
       "</div>"
      ],
      "text/plain": [
       "   season  Year  month  holiday  weekday  workingday  weathersit       temp  \\\n",
       "0       1     0      1        0        6           0           2  14.110847   \n",
       "1       1     0      1        0        0           0           2  14.902598   \n",
       "2       1     0      1        0        1           1           1   8.050924   \n",
       "3       1     0      1        0        2           1           1   8.200000   \n",
       "4       1     0      1        0        3           1           1   9.305237   \n",
       "\n",
       "   temp_feel_like  humidity  windspeed  count  \n",
       "0        18.18125   80.5833  10.749882    985  \n",
       "1        17.68695   69.6087  16.652113    801  \n",
       "2         9.47025   43.7273  16.636703   1349  \n",
       "3        10.60610   59.0435  10.739832   1562  \n",
       "4        11.46350   43.6957  12.522300   1600  "
      ]
     },
     "execution_count": 13,
     "metadata": {},
     "output_type": "execute_result"
    }
   ],
   "source": [
    "bike_df.head()"
   ]
  },
  {
   "cell_type": "markdown",
   "id": "e0521bf4",
   "metadata": {},
   "source": [
    "### Visualising Data "
   ]
  },
  {
   "cell_type": "code",
   "execution_count": 14,
   "id": "654499d8",
   "metadata": {},
   "outputs": [],
   "source": [
    "features = ['season','Year','month','holiday','weekday','workingday','weathersit','temp','temp_feel_like','humidity','windspeed','count']\n"
   ]
  },
  {
   "cell_type": "code",
   "execution_count": null,
   "id": "3941fd93",
   "metadata": {},
   "outputs": [],
   "source": [
    "sns.pairplot(bike_df,vars=features)\n",
    "plt.show()"
   ]
  },
  {
   "cell_type": "markdown",
   "id": "43d913b4",
   "metadata": {},
   "source": [
    " Looking at above  plots , we can see that there are some independent variables look positively correlated to the 'count' variable.\n",
    "\n",
    "* Bike rentals are more correlated to temperature"
   ]
  },
  {
   "cell_type": "code",
   "execution_count": null,
   "id": "693730c6",
   "metadata": {},
   "outputs": [],
   "source": [
    "# Pair plot with specific variables\n",
    "sns.pairplot(data = bike_df, vars = ['temp', 'temp_feel_like', 'humidity', 'windspeed', 'count'])\n",
    "plt.show()"
   ]
  },
  {
   "cell_type": "code",
   "execution_count": null,
   "id": "04a4d7bd",
   "metadata": {},
   "outputs": [],
   "source": [
    "bike_df_copy = bike_df.copy()"
   ]
  },
  {
   "cell_type": "code",
   "execution_count": null,
   "id": "e3a3929f",
   "metadata": {},
   "outputs": [],
   "source": [
    "bike_df_copy.head()"
   ]
  },
  {
   "cell_type": "code",
   "execution_count": null,
   "id": "f4138aff",
   "metadata": {},
   "outputs": [],
   "source": [
    "#Mapping variables season, month, weathersit, weekday\n",
    "\n",
    "bike_df_copy['season']=bike_df_copy.season.map({1: 'spring', 2: 'summer',3:'fall', 4:'winter' })\n",
    "bike_df_copy['month']=bike_df_copy.month.map({1:'Jan',2:'Feb',3:'Mar',4:'Apr',5:'May',6:'June',7:'July',8:'Aug',9:'Sep',10:'Oct',11:'Nov',12:'Dec'})\n",
    "bike_df_copy['weathersit']=bike_df_copy.weathersit.map({1: 'Clear',2:'Misty',3:'Ligh_Snow',4:'Heavy_rain_snow'})\n",
    "bike_df_copy['weekday']=bike_df_copy.weekday.map({0:'Sun',1:'Mon',2:'Tue',3:'Wed',4:'Thu',5:'Fri',6:'Sat'})\n",
    "# bike_df['Year']=bike_df.Year.map({0: \"2018\", 1: \"2019\"})\n",
    "\n",
    "bike_df.head()"
   ]
  },
  {
   "cell_type": "code",
   "execution_count": null,
   "id": "5f0d38ca",
   "metadata": {},
   "outputs": [],
   "source": [
    "bike_df.info()"
   ]
  },
  {
   "cell_type": "markdown",
   "id": "c76df31a",
   "metadata": {},
   "source": [
    "### Visualising Categorical Variables¶\n"
   ]
  },
  {
   "cell_type": "code",
   "execution_count": null,
   "id": "47637807",
   "metadata": {},
   "outputs": [],
   "source": [
    "plt.figure(figsize=(20, 12))\n",
    "plt.subplot(2,4,1)\n",
    "sns.boxplot(x = 'Year', y = 'count', data = bike_df)\n",
    "plt.subplot(2,4,2)\n",
    "sns.boxplot(x = 'holiday', y = 'count', data = bike_df)\n",
    "plt.subplot(2,4,3)\n",
    "sns.boxplot(x = 'workingday', y = 'count', data = bike_df)\n",
    "plt.subplot(2,4,4)\n",
    "sns.boxplot(x = 'month', y = 'count', data = bike_df)\n",
    "plt.subplot(2,4,5)\n",
    "sns.boxplot(x = 'weathersit', y = 'count', data = bike_df)\n",
    "plt.subplot(2,4,6)\n",
    "sns.boxplot(x = 'season', y = 'count', data = bike_df)\n",
    "plt.subplot(2,4,7)\n",
    "sns.boxplot(x = 'weekday', y = 'count', data = bike_df)\n",
    "plt.show()"
   ]
  },
  {
   "cell_type": "markdown",
   "id": "9d2675cc",
   "metadata": {},
   "source": [
    "The plots above shows the relationship between categorical variables and a Target variable.\n",
    "\n",
    "* Bike Rentals count are more during the Fall season and then in summer\n",
    "* Bike Rentals count are more in the year 2019 compared to 2018\n",
    "* Bike Rentals count are more in Clear weather and less in snow \n",
    "* Bike Rentals count are more on Saturday,wednesday and thursday"
   ]
  },
  {
   "cell_type": "markdown",
   "id": "8e8a7c69",
   "metadata": {},
   "source": [
    "### Analysing Categorical variables individualy"
   ]
  },
  {
   "cell_type": "code",
   "execution_count": null,
   "id": "05fcb7fa",
   "metadata": {},
   "outputs": [],
   "source": [
    "def categorical_plot(x,plothue=None):\n",
    "    plt.figure(figsize=(10,5))\n",
    "    ax = sns.barplot(x=x, y=\"count\", data=bike_df,palette=\"viridis\",hue=plothue,errwidth=0)\n",
    "    for i in ax.containers:\n",
    "        ax.bar_label(i,)\n",
    "    plt.show()"
   ]
  },
  {
   "cell_type": "code",
   "execution_count": null,
   "id": "bbf1f853",
   "metadata": {},
   "outputs": [],
   "source": [
    "#Barplot to see relation between year and count of bike rentals\n",
    "categorical_plot('Year')"
   ]
  },
  {
   "cell_type": "markdown",
   "id": "0014fda0",
   "metadata": {},
   "source": [
    "More bike rentals happened in year 2019"
   ]
  },
  {
   "cell_type": "code",
   "execution_count": null,
   "id": "f3aa6eb3",
   "metadata": {},
   "outputs": [],
   "source": [
    "#Barplot to see relation between season and count of bike rentals\n",
    "categorical_plot('season')"
   ]
  },
  {
   "cell_type": "markdown",
   "id": "bc1990f8",
   "metadata": {},
   "source": [
    "Bike Rentals are more in Summer and Fall , Less in Spring"
   ]
  },
  {
   "cell_type": "code",
   "execution_count": null,
   "id": "600f0918",
   "metadata": {},
   "outputs": [],
   "source": [
    "#Relation between weather and count of bike rentals\n",
    "categorical_plot('weathersit')"
   ]
  },
  {
   "cell_type": "markdown",
   "id": "6b71107f",
   "metadata": {},
   "source": [
    "Bike Rentals are more in Clear Weather and less in light snow"
   ]
  },
  {
   "cell_type": "code",
   "execution_count": null,
   "id": "d5e34552",
   "metadata": {},
   "outputs": [],
   "source": [
    "\n",
    "categorical_plot('month','Year')"
   ]
  },
  {
   "cell_type": "markdown",
   "id": "3a5df4fd",
   "metadata": {},
   "source": [
    "Bike Rentals are more in the year 2019 compared to 2018¶\n"
   ]
  },
  {
   "cell_type": "code",
   "execution_count": null,
   "id": "a46073aa",
   "metadata": {},
   "outputs": [],
   "source": [
    "#scatter plot for temperature to count\n",
    "sns.scatterplot(x='temp',y='count' ,data=bike_df)\n",
    "plt.show()"
   ]
  },
  {
   "cell_type": "code",
   "execution_count": null,
   "id": "b5df54c2",
   "metadata": {},
   "outputs": [],
   "source": [
    "sns.scatterplot(x='humidity', y='count',data=bike_df)\n",
    "plt.show()"
   ]
  },
  {
   "cell_type": "markdown",
   "id": "9b37cecf",
   "metadata": {},
   "source": [
    "More Bike rental counts observed at higher humidity"
   ]
  },
  {
   "cell_type": "markdown",
   "id": "b7ae3dac",
   "metadata": {},
   "source": [
    "### Heatmap"
   ]
  },
  {
   "cell_type": "code",
   "execution_count": null,
   "id": "f168f445",
   "metadata": {},
   "outputs": [],
   "source": [
    "plt.figure(figsize=(20, 12))\n",
    "sns.heatmap(bike_df.corr(), cmap='viridis', annot = True)\n",
    "plt.title(\"Correlation between Variables\")\n",
    "plt.show()"
   ]
  },
  {
   "cell_type": "markdown",
   "id": "ce86ce52",
   "metadata": {},
   "source": [
    "We can see that Count and atemp are correlated to count variable"
   ]
  },
  {
   "cell_type": "code",
   "execution_count": null,
   "id": "47e4cb44",
   "metadata": {},
   "outputs": [],
   "source": [
    "bike_df.info()"
   ]
  },
  {
   "cell_type": "code",
   "execution_count": null,
   "id": "ea6e015c",
   "metadata": {},
   "outputs": [],
   "source": [
    "bike_df.info()"
   ]
  },
  {
   "cell_type": "markdown",
   "id": "b47a603f",
   "metadata": {},
   "source": [
    "### Data Preparation"
   ]
  },
  {
   "cell_type": "code",
   "execution_count": null,
   "id": "cd92d208",
   "metadata": {},
   "outputs": [],
   "source": [
    "print(bike_df_copy.workingday.value_counts())\n",
    "print(bike_df_copy.holiday.value_counts())\n",
    "print(bike_df_copy.season.value_counts())\n",
    "print(bike_df_copy.weathersit.value_counts())\n",
    "print(bike_df_copy.month.value_counts())"
   ]
  },
  {
   "cell_type": "code",
   "execution_count": null,
   "id": "82e9c503",
   "metadata": {},
   "outputs": [],
   "source": [
    "bike_df_copy.info()"
   ]
  },
  {
   "cell_type": "markdown",
   "id": "9082245f",
   "metadata": {},
   "source": [
    "### Create dummy varibales for categorical Variables \n"
   ]
  },
  {
   "cell_type": "code",
   "execution_count": null,
   "id": "8b451288",
   "metadata": {},
   "outputs": [],
   "source": [
    "# Get the dummy variables for month, season, weathersit, weekday \n",
    "seasons = pd.get_dummies(bike_df_copy.season,drop_first=True)\n",
    "months = pd.get_dummies(bike_df_copy.month,drop_first=True)\n",
    "weekdays = pd.get_dummies(bike_df_copy.weekday,drop_first=True)\n",
    "weather_sit = pd.get_dummies(bike_df_copy.weathersit,drop_first=True)\n",
    "# year = pd.get_dummies(bike_df['Year'], drop_first = True)\n"
   ]
  },
  {
   "cell_type": "code",
   "execution_count": null,
   "id": "bc41e578",
   "metadata": {},
   "outputs": [],
   "source": [
    "bike_df_copy.head()"
   ]
  },
  {
   "cell_type": "code",
   "execution_count": null,
   "id": "bc84e793",
   "metadata": {},
   "outputs": [],
   "source": [
    "bike_df_new =  pd.concat([bike_df_copy,seasons,months,weather_sit,weekdays], axis = 1)\n",
    "bike_df.head()"
   ]
  },
  {
   "cell_type": "code",
   "execution_count": null,
   "id": "cf9b64e7",
   "metadata": {},
   "outputs": [],
   "source": [
    "bike_df_new.shape"
   ]
  },
  {
   "cell_type": "code",
   "execution_count": null,
   "id": "8600c4ab",
   "metadata": {},
   "outputs": [],
   "source": [
    "bike_df_new.info()"
   ]
  },
  {
   "cell_type": "code",
   "execution_count": null,
   "id": "5308e4a1",
   "metadata": {},
   "outputs": [],
   "source": [
    "# Dropping columns for which we have created dummies"
   ]
  },
  {
   "cell_type": "code",
   "execution_count": null,
   "id": "8ac18f8b",
   "metadata": {},
   "outputs": [],
   "source": [
    "bike_df_new.drop(['season','month','weekday','weathersit'], axis = 1, inplace = True)\n",
    "bike_df_new.head()"
   ]
  },
  {
   "cell_type": "code",
   "execution_count": null,
   "id": "bd4a92b7",
   "metadata": {},
   "outputs": [],
   "source": [
    "bike_df_new.columns"
   ]
  },
  {
   "cell_type": "code",
   "execution_count": null,
   "id": "a0560827",
   "metadata": {},
   "outputs": [],
   "source": [
    "bike_df_new.shape"
   ]
  },
  {
   "cell_type": "code",
   "execution_count": null,
   "id": "9d57314a",
   "metadata": {},
   "outputs": [],
   "source": [
    "bike_df_new.info()"
   ]
  },
  {
   "cell_type": "code",
   "execution_count": null,
   "id": "066d474c",
   "metadata": {},
   "outputs": [],
   "source": [
    "#Now lets check the correlation between variables again\n",
    "#Heatmap to see correlation between variables\n",
    "plt.figure(figsize=(25, 20))\n",
    "sns.heatmap(bike_df_new.corr(), cmap='YlGnBu', annot = True)\n",
    "plt.show()"
   ]
  },
  {
   "cell_type": "markdown",
   "id": "50c1a7c7",
   "metadata": {},
   "source": [
    "### Step : Splitting the Data into Training and Testing Sets\n",
    "As you know, the first basic step for regression is performing a train-test split."
   ]
  },
  {
   "cell_type": "code",
   "execution_count": null,
   "id": "97e443d1",
   "metadata": {},
   "outputs": [],
   "source": [
    "from sklearn.model_selection import train_test_split\n",
    "\n",
    "# We specify this so that the train and test data set always have the same rows, respectively\n",
    "np.random.seed(0)\n",
    "bike_df_train, bike_df_test = train_test_split(bike_df_new, train_size = 0.7,test_size = 0.30, random_state = 100)"
   ]
  },
  {
   "cell_type": "code",
   "execution_count": null,
   "id": "4ce4f114",
   "metadata": {},
   "outputs": [],
   "source": [
    "bike_df_test1 = bike_df_test.copy()"
   ]
  },
  {
   "cell_type": "code",
   "execution_count": null,
   "id": "6b870143",
   "metadata": {},
   "outputs": [],
   "source": [
    "print(bike_df.shape)\n",
    "print(bike_df_train.shape)\n",
    "print(bike_df_test.shape)"
   ]
  },
  {
   "cell_type": "markdown",
   "id": "74f5859a",
   "metadata": {},
   "source": [
    "### Rescaling the Features"
   ]
  },
  {
   "cell_type": "markdown",
   "id": "2e66275c",
   "metadata": {},
   "source": [
    "For Simple Linear Regression, scaling doesn't impact your model. Here we can see that except for area, all the columns have small integer values. So it is extremely important to rescale the variables so that they have a comparable scale. If we don't have comparable scales, then some of the coefficients as obtained by fitting the regression model might be very large or very small as compared to the other coefficients. This might become very annoying at the time of model evaluation. So it is advised to use standardization or normalization so that the units of the coefficients obtained are all on the same scale. As you know, there are two common ways of rescaling:\n",
    "\n",
    "* Min-Max scaling\n",
    "* Standardisation (mean-0, sigma-1)\n",
    "This time, we will use MinMax scaling."
   ]
  },
  {
   "cell_type": "code",
   "execution_count": null,
   "id": "23c966ef",
   "metadata": {},
   "outputs": [],
   "source": [
    "from sklearn.preprocessing import MinMaxScaler"
   ]
  },
  {
   "cell_type": "code",
   "execution_count": null,
   "id": "80bdc1e6",
   "metadata": {},
   "outputs": [],
   "source": [
    "scaler = MinMaxScaler()"
   ]
  },
  {
   "cell_type": "code",
   "execution_count": null,
   "id": "652b5d4a",
   "metadata": {},
   "outputs": [],
   "source": [
    "bike_df_new.head()"
   ]
  },
  {
   "cell_type": "code",
   "execution_count": null,
   "id": "c67bb542",
   "metadata": {},
   "outputs": [],
   "source": [
    "# Apply scaler() to all the columns except 'dummy' variables\n",
    "num_vars=['temp','humidity','windspeed','count','temp_feel_like']"
   ]
  },
  {
   "cell_type": "code",
   "execution_count": null,
   "id": "7f710b5c",
   "metadata": {},
   "outputs": [],
   "source": [
    "bike_df_train[num_vars] = scaler.fit_transform(bike_df_train[num_vars])"
   ]
  },
  {
   "cell_type": "code",
   "execution_count": null,
   "id": "68d2cd0e",
   "metadata": {},
   "outputs": [],
   "source": [
    "bike_df_train.head()"
   ]
  },
  {
   "cell_type": "code",
   "execution_count": null,
   "id": "95f2a688",
   "metadata": {},
   "outputs": [],
   "source": [
    "# Let's check the correlation coefficients to see which variables are highly correlated\n",
    "\n",
    "plt.figure(figsize = (30, 20))\n",
    "sns.heatmap(bike_df_train.corr(), annot = True, cmap=\"YlGnBu\")\n",
    "plt.show()"
   ]
  },
  {
   "cell_type": "markdown",
   "id": "ce5c5b2e",
   "metadata": {},
   "source": [
    "Temp and year are correlated to the count ,and August,September month seems to be correlated to count "
   ]
  },
  {
   "cell_type": "code",
   "execution_count": null,
   "id": "66a5323d",
   "metadata": {},
   "outputs": [],
   "source": [
    "plt.figure(figsize=[6,6])\n",
    "plt.scatter(bike_df_train.temp, bike_df_train['count'])\n",
    "plt.show()"
   ]
  },
  {
   "cell_type": "markdown",
   "id": "84e8fc8e",
   "metadata": {},
   "source": [
    "### Building our model\n",
    "This time, we will be using the LinearRegression function from SciKit Learn for its compatibility with RFE (which is a utility from sklearn)\n",
    "\n"
   ]
  },
  {
   "cell_type": "markdown",
   "id": "358787ff",
   "metadata": {},
   "source": [
    "#### Recursive Feature Elimination"
   ]
  },
  {
   "cell_type": "markdown",
   "id": "81c483fe",
   "metadata": {},
   "source": [
    "##### Dividing into X and Y sets for the model building\n"
   ]
  },
  {
   "cell_type": "code",
   "execution_count": null,
   "id": "5cb89e26",
   "metadata": {},
   "outputs": [],
   "source": [
    "bike_df_train.columns"
   ]
  },
  {
   "cell_type": "code",
   "execution_count": null,
   "id": "25613977",
   "metadata": {},
   "outputs": [],
   "source": [
    "#Divide the data into X and y\n",
    "y_train = bike_df_train.pop('count')\n",
    "X_train = bike_df_train"
   ]
  },
  {
   "cell_type": "code",
   "execution_count": null,
   "id": "df81198a",
   "metadata": {},
   "outputs": [],
   "source": [
    "X_train.info()"
   ]
  },
  {
   "cell_type": "code",
   "execution_count": null,
   "id": "9b5e9702",
   "metadata": {},
   "outputs": [],
   "source": [
    "# Importing RFE and LinearRegression\n",
    "from sklearn.feature_selection import RFE\n",
    "from sklearn.linear_model import LinearRegression\n",
    "from statsmodels.stats.outliers_influence import variance_inflation_factor\n",
    "import statsmodels.api as sm\n",
    "from sklearn.metrics import r2_score"
   ]
  },
  {
   "cell_type": "code",
   "execution_count": null,
   "id": "bb4d494f",
   "metadata": {},
   "outputs": [],
   "source": [
    "# Running RFE with the output number of the variable equal to 15\n",
    "lm = LinearRegression()\n",
    "lm.fit(X_train, y_train)\n",
    "rfe = RFE(lm,n_features_to_select=15)\n",
    "rfe = rfe.fit(X_train, y_train)\n"
   ]
  },
  {
   "cell_type": "code",
   "execution_count": null,
   "id": "052188dd",
   "metadata": {},
   "outputs": [],
   "source": [
    "list(zip(X_train.columns,rfe.support_,rfe.ranking_))\n"
   ]
  },
  {
   "cell_type": "code",
   "execution_count": null,
   "id": "b4f98353",
   "metadata": {},
   "outputs": [],
   "source": [
    "# checking which features are considered via RFE\n",
    "col = X_train.columns[rfe.support_]\n",
    "col"
   ]
  },
  {
   "cell_type": "code",
   "execution_count": null,
   "id": "0842f365",
   "metadata": {},
   "outputs": [],
   "source": [
    "# checking which features are rejected\n",
    "X_train.columns[~rfe.support_]"
   ]
  },
  {
   "cell_type": "code",
   "execution_count": null,
   "id": "b36353e1",
   "metadata": {},
   "outputs": [],
   "source": [
    "# To calculate VIF of variables\n",
    "def calculate_VIF(df):\n",
    "    vif = pd.DataFrame()\n",
    "    vif['Features'] = df.columns\n",
    "    vif['VIF'] = [variance_inflation_factor(df.values, i) for i in range(df.shape[1])]\n",
    "    vif['VIF'] = round(vif['VIF'], 2)\n",
    "    vif = vif.sort_values(by = \"VIF\", ascending = False)\n",
    "    return vif "
   ]
  },
  {
   "cell_type": "code",
   "execution_count": null,
   "id": "d136f7ed",
   "metadata": {},
   "outputs": [],
   "source": [
    "# Creating X_test dataframe with RFE selected variables\n",
    "X_train_rfe = X_train[col]"
   ]
  },
  {
   "cell_type": "code",
   "execution_count": null,
   "id": "95f07772",
   "metadata": {},
   "outputs": [],
   "source": [
    "vif = pd.DataFrame()\n",
    "X = X_train_rfe\n",
    "vif['Features'] = X.columns\n",
    "vif['VIF'] = [variance_inflation_factor(X.values, i) for i in range(X.shape[1])]\n",
    "vif['VIF'] = round(vif['VIF'], 2)\n",
    "vif = vif.sort_values(by = \"VIF\", ascending = False)\n",
    "vif"
   ]
  },
  {
   "cell_type": "markdown",
   "id": "845b1c4f",
   "metadata": {},
   "source": [
    "### Linear Model Building"
   ]
  },
  {
   "cell_type": "code",
   "execution_count": null,
   "id": "3dbeb7c5",
   "metadata": {},
   "outputs": [],
   "source": [
    "X_train_lm_1 = sm.add_constant(X_train_rfe)\n",
    "lr_1 = sm.OLS(y_train,X_train_lm_1).fit()\n"
   ]
  },
  {
   "cell_type": "code",
   "execution_count": null,
   "id": "bc1b6da9",
   "metadata": {},
   "outputs": [],
   "source": [
    "print(lr_1.summary())"
   ]
  },
  {
   "cell_type": "code",
   "execution_count": null,
   "id": "e6513c96",
   "metadata": {},
   "outputs": [],
   "source": [
    "# workingday  shows high VIF values hence dropping it\n",
    "X_train_new = X_train_rfe.drop(['workingday'], axis = 1)\n",
    "\n",
    "# Run the function to calculate VIF for the new model\n",
    "calculate_VIF(X_train_new)"
   ]
  },
  {
   "cell_type": "markdown",
   "id": "c980573b",
   "metadata": {},
   "source": [
    "##### Rebuilding Linear Model without working day"
   ]
  },
  {
   "cell_type": "code",
   "execution_count": null,
   "id": "9457cca2",
   "metadata": {},
   "outputs": [],
   "source": [
    "X_train_lm_2 = sm.add_constant(X_train_new)\n",
    "lr_2 = sm.OLS(y_train,X_train_lm_2).fit()"
   ]
  },
  {
   "cell_type": "code",
   "execution_count": null,
   "id": "1573cb90",
   "metadata": {},
   "outputs": [],
   "source": [
    "print(lr_2.summary())"
   ]
  },
  {
   "cell_type": "code",
   "execution_count": null,
   "id": "919716a2",
   "metadata": {},
   "outputs": [],
   "source": [
    "#  humidity shows high VIF values hence we can drop it\n",
    "X_train_new = X_train_new.drop(['humidity'], axis = 1)\n",
    "\n",
    "# Run the function to calculate VIF for the new model\n",
    "calculate_VIF(X_train_new)"
   ]
  },
  {
   "cell_type": "code",
   "execution_count": null,
   "id": "40871a75",
   "metadata": {},
   "outputs": [],
   "source": [
    "# Building 3rd linear regression model\n",
    "\n",
    "X_train_lm_3 = sm.add_constant(X_train_new)\n",
    "lr_3 = sm.OLS(y_train,X_train_lm_3).fit()\n",
    "print(lr_3.summary())"
   ]
  },
  {
   "cell_type": "code",
   "execution_count": null,
   "id": "d2fcb153",
   "metadata": {},
   "outputs": [],
   "source": [
    "# p-value for sat is high so dropping it\n",
    "X_train_new = X_train_new.drop(['Sat'], axis = 1)\n",
    "\n",
    "# Run the function to calculate VIF for the new model\n",
    "calculate_VIF(X_train_new)"
   ]
  },
  {
   "cell_type": "code",
   "execution_count": null,
   "id": "4a4325fc",
   "metadata": {},
   "outputs": [],
   "source": [
    "# Building again the 4th linear regression model\n",
    "\n",
    "X_train_lm_4 = sm.add_constant(X_train_new)\n",
    "lr_4 = sm.OLS(y_train,X_train_lm_4).fit()\n",
    "print(lr_4.summary())"
   ]
  },
  {
   "cell_type": "code",
   "execution_count": null,
   "id": "0e811ae1",
   "metadata": {},
   "outputs": [],
   "source": [
    "# p-value for july is high so dropping it\n",
    "X_train_new = X_train_new.drop(['July'], axis = 1)\n",
    "\n",
    "# Run the function to calculate VIF for the new model\n",
    "calculate_VIF(X_train_new)"
   ]
  },
  {
   "cell_type": "code",
   "execution_count": null,
   "id": "d72bf9a9",
   "metadata": {},
   "outputs": [],
   "source": [
    "# Building 5th linear regression model\n",
    "\n",
    "X_train_lm_5 = sm.add_constant(X_train_new)\n",
    "lr_5 = sm.OLS(y_train,X_train_lm_5).fit()\n",
    "print(lr_5.summary())"
   ]
  },
  {
   "cell_type": "code",
   "execution_count": null,
   "id": "9dcd6b98",
   "metadata": {},
   "outputs": [],
   "source": [
    "# p-value for july is high so dropping it\n",
    "X_train_new = X_train_new.drop(['spring'], axis = 1)\n",
    "\n",
    "# Run the function to calculate VIF for the new model\n",
    "calculate_VIF(X_train_new)"
   ]
  },
  {
   "cell_type": "code",
   "execution_count": null,
   "id": "57c632ba",
   "metadata": {},
   "outputs": [],
   "source": [
    "# Building 6th linear regression model\n",
    "\n",
    "X_train_lm_6 = sm.add_constant(X_train_new)\n",
    "lr_6 = sm.OLS(y_train,X_train_lm_6).fit()\n",
    "print(lr_6.summary())"
   ]
  },
  {
   "cell_type": "markdown",
   "id": "53f97c6e",
   "metadata": {},
   "source": [
    "for all the predictors seems to be significant as there seems to be VERY LOW Multicollinearity between the predictors and the p-values For now, we will consider this as our final model."
   ]
  },
  {
   "cell_type": "code",
   "execution_count": null,
   "id": "32340be5",
   "metadata": {},
   "outputs": [],
   "source": [
    "# Checking the parameters and their coefficient values\n",
    "lr_6.params"
   ]
  },
  {
   "cell_type": "markdown",
   "id": "90513145",
   "metadata": {},
   "source": [
    "All coefficients are not equal to zero, which means We can REJECT the NULL HYPOTHESIS"
   ]
  },
  {
   "cell_type": "markdown",
   "id": "76ed02aa",
   "metadata": {},
   "source": [
    "Inference\n",
    "- Count of bike booking increases with increase in temp \n",
    "- Count of bike booking increase inmonth of Sep and is high in summer season\n",
    "- Count of bike booking Decreases wrt Holiday, Windspeed, Sunday, snow rain, Misty."
   ]
  },
  {
   "cell_type": "markdown",
   "id": "6cf2449c",
   "metadata": {},
   "source": [
    "#### Residual Analysis of Train Data\n"
   ]
  },
  {
   "cell_type": "code",
   "execution_count": null,
   "id": "7f9272aa",
   "metadata": {},
   "outputs": [],
   "source": [
    "X_train_lm_6"
   ]
  },
  {
   "cell_type": "code",
   "execution_count": null,
   "id": "5bfe962a",
   "metadata": {},
   "outputs": [],
   "source": [
    "y_train_pred = lr_6.predict(X_train_lm_6)"
   ]
  },
  {
   "cell_type": "markdown",
   "id": "cf7f5b8b",
   "metadata": {},
   "source": [
    "## Normality"
   ]
  },
  {
   "cell_type": "code",
   "execution_count": null,
   "id": "59e4dc4c",
   "metadata": {},
   "outputs": [],
   "source": [
    "# Plot the histogram of the error terms\n",
    "\n",
    "fig = plt.figure()\n",
    "sns.distplot((y_train - y_train_pred), bins = 20)\n",
    "fig.suptitle('Error Terms', fontsize = 20) \n",
    "plt.xlabel('Errors', fontsize = 18)"
   ]
  },
  {
   "cell_type": "markdown",
   "id": "c08c7090",
   "metadata": {},
   "source": [
    "Graph show normal distribution for Erros"
   ]
  },
  {
   "cell_type": "markdown",
   "id": "535c4593",
   "metadata": {},
   "source": [
    "## MultiColinearity"
   ]
  },
  {
   "cell_type": "code",
   "execution_count": null,
   "id": "a62485cf",
   "metadata": {},
   "outputs": [],
   "source": [
    "calculate_VIF(X_train_new)"
   ]
  },
  {
   "cell_type": "markdown",
   "id": "6ac25355",
   "metadata": {},
   "source": [
    "\n",
    "VIF Value shows that there is no multicolinearity"
   ]
  },
  {
   "cell_type": "markdown",
   "id": "003cc0d8",
   "metadata": {},
   "source": [
    "## Check for Linearity\n"
   ]
  },
  {
   "cell_type": "code",
   "execution_count": null,
   "id": "138333fb",
   "metadata": {},
   "outputs": [],
   "source": [
    "# Linear relationship validation using CCPR plot\n",
    "# Component and component plus residual plot\n",
    "\n",
    "sm.graphics.plot_ccpr(lr_6, 'temp')\n",
    "plt.show()\n",
    "\n",
    "sm.graphics.plot_ccpr(lr_6, 'Sep')\n",
    "plt.show()\n",
    "\n",
    "sm.graphics.plot_ccpr(lr_6, 'windspeed')\n",
    "plt.show()"
   ]
  },
  {
   "cell_type": "markdown",
   "id": "70664db0",
   "metadata": {},
   "source": [
    "### Prediction Using Final Model"
   ]
  },
  {
   "cell_type": "code",
   "execution_count": null,
   "id": "f20d9f5f",
   "metadata": {},
   "outputs": [],
   "source": [
    "bike_df_test1.info()"
   ]
  },
  {
   "cell_type": "code",
   "execution_count": null,
   "id": "12e04e86",
   "metadata": {},
   "outputs": [],
   "source": [
    "# Apply scaler() to all numeric variables in test dataset. Note: we will only use scaler.transform, \n",
    "# as we want to use the metrics that the model learned from the training data to be applied on the test data. \n",
    "# In other words, we want to prevent the information leak from train to test dataset.\n",
    "\n",
    "num_vars = ['temp', 'temp_feel_like', 'humidity', 'windspeed','count']\n",
    "\n",
    "bike_df_test1[num_vars] = scaler.transform(bike_df_test1[num_vars])"
   ]
  },
  {
   "cell_type": "code",
   "execution_count": null,
   "id": "093e5811",
   "metadata": {},
   "outputs": [],
   "source": [
    "bike_df_test1"
   ]
  },
  {
   "cell_type": "code",
   "execution_count": null,
   "id": "113b2165",
   "metadata": {},
   "outputs": [],
   "source": [
    "bike_df_test1.describe()"
   ]
  },
  {
   "cell_type": "markdown",
   "id": "3075b280",
   "metadata": {},
   "source": [
    "### Test Between X_test and y_test"
   ]
  },
  {
   "cell_type": "code",
   "execution_count": null,
   "id": "b73d4d99",
   "metadata": {},
   "outputs": [],
   "source": [
    "y_test = bike_df_test1.pop('count')\n",
    "X_test = bike_df_test1\n",
    "X_test.info()"
   ]
  },
  {
   "cell_type": "code",
   "execution_count": null,
   "id": "78dbc92b",
   "metadata": {},
   "outputs": [],
   "source": [
    "#Selecting the variables that were part of final model.\n",
    "col1 = X_train_new.columns\n",
    "X_test = X_test[col1]\n",
    "# Adding constant variable to test dataframe\n",
    "X_test_lm6 = sm.add_constant(X_test)\n",
    "X_test_lm6.info()"
   ]
  },
  {
   "cell_type": "code",
   "execution_count": null,
   "id": "d638ecff",
   "metadata": {},
   "outputs": [],
   "source": [
    "# Making predictions using the final model (lr6)\n",
    "\n",
    "y_pred = lr_6.predict(X_test_lm6)"
   ]
  },
  {
   "cell_type": "code",
   "execution_count": null,
   "id": "32dc57ee",
   "metadata": {},
   "outputs": [],
   "source": [
    "r2 = r2_score(y_test, y_pred)\n",
    "round(r2,4)"
   ]
  },
  {
   "cell_type": "markdown",
   "id": "be21390d",
   "metadata": {},
   "source": [
    "### Model Evaluation"
   ]
  },
  {
   "cell_type": "code",
   "execution_count": null,
   "id": "0fd27288",
   "metadata": {},
   "outputs": [],
   "source": [
    "fig = plt.figure()\n",
    "plt.scatter(y_test, y_pred, alpha=.5)\n",
    "fig.suptitle('y_test vs y_pred', fontsize = 20)              # Plot heading \n",
    "plt.xlabel('y_test', fontsize = 18)                          # X-label\n",
    "plt.ylabel('y_pred', fontsize = 16) \n",
    "plt.show()"
   ]
  },
  {
   "cell_type": "code",
   "execution_count": null,
   "id": "91578cbd",
   "metadata": {},
   "outputs": [],
   "source": [
    "round(lr_6.params,4)"
   ]
  },
  {
   "cell_type": "code",
   "execution_count": null,
   "id": "78da270e",
   "metadata": {},
   "outputs": [],
   "source": [
    "r2_score(y_test, y_pred)"
   ]
  },
  {
   "cell_type": "code",
   "execution_count": null,
   "id": "009cf77d",
   "metadata": {},
   "outputs": [],
   "source": [
    "# We already have the value of R^2 (calculated in above step)\n",
    "\n",
    "r2=0.7958272128950747"
   ]
  },
  {
   "cell_type": "code",
   "execution_count": null,
   "id": "fd998b45",
   "metadata": {},
   "outputs": [],
   "source": [
    "# Get the shape of X_test\n",
    "X_test.shape"
   ]
  },
  {
   "cell_type": "code",
   "execution_count": null,
   "id": "a80395fd",
   "metadata": {},
   "outputs": [],
   "source": [
    "# n is number of rows in X\n",
    "\n",
    "n = X_test.shape[0]\n",
    "\n",
    "\n",
    "# Number of features (predictors, p) is the shape along axis 1\n",
    "p = X_test.shape[1]\n",
    "\n",
    "# We find the Adjusted R-squared using the formula\n",
    "\n",
    "adjusted_r2 = 1-(1-r2)*(n-1)/(n-p-1)\n",
    "adjusted_r2"
   ]
  },
  {
   "cell_type": "code",
   "execution_count": null,
   "id": "ad59eb86",
   "metadata": {},
   "outputs": [],
   "source": [
    "# Visualizing the fit on the test data\n",
    "# plotting a Regression plot\n",
    "\n",
    "plt.figure()\n",
    "sns.regplot(x = y_test, y = y_pred, ci = 68, fit_reg = True, scatter_kws = {\"color\": \"skyblue\"}, line_kws = {\"color\": \"red\"})\n",
    "plt.title('y_test vs y_pred', fontsize = 20)\n",
    "plt.xlabel('y_test', fontsize = 18)\n",
    "plt.ylabel('y_pred', fontsize = 16)\n",
    "plt.show()"
   ]
  },
  {
   "cell_type": "markdown",
   "id": "c361b794",
   "metadata": {},
   "source": [
    "### As per above analysis, the comapany should focus on the following features:\n",
    "- Since there are more bookins in Spring and September , Company can plan to expand business by targeting clients\n",
    "\n",
    "- Less bookins happen during holidays and Light Snow, company can give more discounts to attract more business or do maintnance work. \n",
    "\n",
    "Features to be considerd:\n",
    "- temp\n",
    "- holiday\n",
    "- Sunday\n",
    "- humidity\n",
    "- windspeed\n",
    "- Season\n",
    "- months(January, July, September, November, December)\n",
    "- weathersit( Light Snow, Mist + Cloudy)\n",
    "\n",
    "\n",
    "\n"
   ]
  },
  {
   "cell_type": "code",
   "execution_count": null,
   "id": "ba6a2173",
   "metadata": {},
   "outputs": [],
   "source": []
  }
 ],
 "metadata": {
  "kernelspec": {
   "display_name": "Python 3 (ipykernel)",
   "language": "python",
   "name": "python3"
  },
  "language_info": {
   "codemirror_mode": {
    "name": "ipython",
    "version": 3
   },
   "file_extension": ".py",
   "mimetype": "text/x-python",
   "name": "python",
   "nbconvert_exporter": "python",
   "pygments_lexer": "ipython3",
   "version": "3.8.11"
  }
 },
 "nbformat": 4,
 "nbformat_minor": 5
}
